{
 "cells": [
  {
   "cell_type": "code",
   "execution_count": 1,
   "id": "e1d0a298",
   "metadata": {},
   "outputs": [],
   "source": [
    "# Import Libraries\n",
    "\n",
    "import pandas as pd\n",
    "import seaborn as sns\n",
    "import matplotlib.pyplot as plt\n",
    "import os as os"
   ]
  },
  {
   "cell_type": "code",
   "execution_count": 2,
   "id": "8568f279",
   "metadata": {},
   "outputs": [],
   "source": [
    "# Reading File\n",
    "\n",
    "df = pd.read_csv(r\"C:\\Users\\coco MANEL\\Downloads\\Walmart_sales.csv\")"
   ]
  },
  {
   "cell_type": "code",
   "execution_count": 3,
   "id": "b4288a34",
   "metadata": {},
   "outputs": [
    {
     "data": {
      "text/plain": [
       "Store             int64\n",
       "Date             object\n",
       "Weekly_Sales    float64\n",
       "Holiday_Flag      int64\n",
       "Temperature     float64\n",
       "Fuel_Price      float64\n",
       "CPI             float64\n",
       "Unemployment    float64\n",
       "dtype: object"
      ]
     },
     "execution_count": 3,
     "metadata": {},
     "output_type": "execute_result"
    }
   ],
   "source": [
    "# Verifying the types for each column\n",
    "\n",
    "df.dtypes"
   ]
  },
  {
   "cell_type": "code",
   "execution_count": 4,
   "id": "63f9e043",
   "metadata": {},
   "outputs": [
    {
     "data": {
      "text/html": [
       "<div>\n",
       "<style scoped>\n",
       "    .dataframe tbody tr th:only-of-type {\n",
       "        vertical-align: middle;\n",
       "    }\n",
       "\n",
       "    .dataframe tbody tr th {\n",
       "        vertical-align: top;\n",
       "    }\n",
       "\n",
       "    .dataframe thead th {\n",
       "        text-align: right;\n",
       "    }\n",
       "</style>\n",
       "<table border=\"1\" class=\"dataframe\">\n",
       "  <thead>\n",
       "    <tr style=\"text-align: right;\">\n",
       "      <th></th>\n",
       "      <th>Store</th>\n",
       "      <th>Date</th>\n",
       "      <th>Weekly_Sales</th>\n",
       "      <th>Holiday_Flag</th>\n",
       "      <th>Temperature</th>\n",
       "      <th>Fuel_Price</th>\n",
       "      <th>CPI</th>\n",
       "      <th>Unemployment</th>\n",
       "    </tr>\n",
       "  </thead>\n",
       "  <tbody>\n",
       "    <tr>\n",
       "      <th>0</th>\n",
       "      <td>1</td>\n",
       "      <td>05-02-2010</td>\n",
       "      <td>1643690.90</td>\n",
       "      <td>0</td>\n",
       "      <td>42.31</td>\n",
       "      <td>2.572</td>\n",
       "      <td>211.096358</td>\n",
       "      <td>8.106</td>\n",
       "    </tr>\n",
       "    <tr>\n",
       "      <th>1</th>\n",
       "      <td>1</td>\n",
       "      <td>12-02-2010</td>\n",
       "      <td>1641957.44</td>\n",
       "      <td>1</td>\n",
       "      <td>38.51</td>\n",
       "      <td>2.548</td>\n",
       "      <td>211.242170</td>\n",
       "      <td>8.106</td>\n",
       "    </tr>\n",
       "    <tr>\n",
       "      <th>2</th>\n",
       "      <td>1</td>\n",
       "      <td>19-02-2010</td>\n",
       "      <td>1611968.17</td>\n",
       "      <td>0</td>\n",
       "      <td>39.93</td>\n",
       "      <td>2.514</td>\n",
       "      <td>211.289143</td>\n",
       "      <td>8.106</td>\n",
       "    </tr>\n",
       "    <tr>\n",
       "      <th>3</th>\n",
       "      <td>1</td>\n",
       "      <td>26-02-2010</td>\n",
       "      <td>1409727.59</td>\n",
       "      <td>0</td>\n",
       "      <td>46.63</td>\n",
       "      <td>2.561</td>\n",
       "      <td>211.319643</td>\n",
       "      <td>8.106</td>\n",
       "    </tr>\n",
       "    <tr>\n",
       "      <th>4</th>\n",
       "      <td>1</td>\n",
       "      <td>05-03-2010</td>\n",
       "      <td>1554806.68</td>\n",
       "      <td>0</td>\n",
       "      <td>46.50</td>\n",
       "      <td>2.625</td>\n",
       "      <td>211.350143</td>\n",
       "      <td>8.106</td>\n",
       "    </tr>\n",
       "    <tr>\n",
       "      <th>...</th>\n",
       "      <td>...</td>\n",
       "      <td>...</td>\n",
       "      <td>...</td>\n",
       "      <td>...</td>\n",
       "      <td>...</td>\n",
       "      <td>...</td>\n",
       "      <td>...</td>\n",
       "      <td>...</td>\n",
       "    </tr>\n",
       "    <tr>\n",
       "      <th>6430</th>\n",
       "      <td>45</td>\n",
       "      <td>28-09-2012</td>\n",
       "      <td>713173.95</td>\n",
       "      <td>0</td>\n",
       "      <td>64.88</td>\n",
       "      <td>3.997</td>\n",
       "      <td>192.013558</td>\n",
       "      <td>8.684</td>\n",
       "    </tr>\n",
       "    <tr>\n",
       "      <th>6431</th>\n",
       "      <td>45</td>\n",
       "      <td>05-10-2012</td>\n",
       "      <td>733455.07</td>\n",
       "      <td>0</td>\n",
       "      <td>64.89</td>\n",
       "      <td>3.985</td>\n",
       "      <td>192.170412</td>\n",
       "      <td>8.667</td>\n",
       "    </tr>\n",
       "    <tr>\n",
       "      <th>6432</th>\n",
       "      <td>45</td>\n",
       "      <td>12-10-2012</td>\n",
       "      <td>734464.36</td>\n",
       "      <td>0</td>\n",
       "      <td>54.47</td>\n",
       "      <td>4.000</td>\n",
       "      <td>192.327265</td>\n",
       "      <td>8.667</td>\n",
       "    </tr>\n",
       "    <tr>\n",
       "      <th>6433</th>\n",
       "      <td>45</td>\n",
       "      <td>19-10-2012</td>\n",
       "      <td>718125.53</td>\n",
       "      <td>0</td>\n",
       "      <td>56.47</td>\n",
       "      <td>3.969</td>\n",
       "      <td>192.330854</td>\n",
       "      <td>8.667</td>\n",
       "    </tr>\n",
       "    <tr>\n",
       "      <th>6434</th>\n",
       "      <td>45</td>\n",
       "      <td>26-10-2012</td>\n",
       "      <td>760281.43</td>\n",
       "      <td>0</td>\n",
       "      <td>58.85</td>\n",
       "      <td>3.882</td>\n",
       "      <td>192.308899</td>\n",
       "      <td>8.667</td>\n",
       "    </tr>\n",
       "  </tbody>\n",
       "</table>\n",
       "<p>6435 rows × 8 columns</p>\n",
       "</div>"
      ],
      "text/plain": [
       "      Store        Date  Weekly_Sales  Holiday_Flag  Temperature  Fuel_Price  \\\n",
       "0         1  05-02-2010    1643690.90             0        42.31       2.572   \n",
       "1         1  12-02-2010    1641957.44             1        38.51       2.548   \n",
       "2         1  19-02-2010    1611968.17             0        39.93       2.514   \n",
       "3         1  26-02-2010    1409727.59             0        46.63       2.561   \n",
       "4         1  05-03-2010    1554806.68             0        46.50       2.625   \n",
       "...     ...         ...           ...           ...          ...         ...   \n",
       "6430     45  28-09-2012     713173.95             0        64.88       3.997   \n",
       "6431     45  05-10-2012     733455.07             0        64.89       3.985   \n",
       "6432     45  12-10-2012     734464.36             0        54.47       4.000   \n",
       "6433     45  19-10-2012     718125.53             0        56.47       3.969   \n",
       "6434     45  26-10-2012     760281.43             0        58.85       3.882   \n",
       "\n",
       "             CPI  Unemployment  \n",
       "0     211.096358         8.106  \n",
       "1     211.242170         8.106  \n",
       "2     211.289143         8.106  \n",
       "3     211.319643         8.106  \n",
       "4     211.350143         8.106  \n",
       "...          ...           ...  \n",
       "6430  192.013558         8.684  \n",
       "6431  192.170412         8.667  \n",
       "6432  192.327265         8.667  \n",
       "6433  192.330854         8.667  \n",
       "6434  192.308899         8.667  \n",
       "\n",
       "[6435 rows x 8 columns]"
      ]
     },
     "execution_count": 4,
     "metadata": {},
     "output_type": "execute_result"
    }
   ],
   "source": [
    "# Running the dataframe\n",
    "\n",
    "df"
   ]
  },
  {
   "cell_type": "code",
   "execution_count": 5,
   "id": "ae0d5e6b",
   "metadata": {},
   "outputs": [
    {
     "data": {
      "text/plain": [
       "array(['05-02-2010', '12-02-2010', '19-02-2010', '26-02-2010',\n",
       "       '05-03-2010', '12-03-2010', '19-03-2010', '26-03-2010',\n",
       "       '02-04-2010', '09-04-2010', '16-04-2010', '23-04-2010',\n",
       "       '30-04-2010', '07-05-2010', '14-05-2010', '21-05-2010',\n",
       "       '28-05-2010', '04-06-2010', '11-06-2010', '18-06-2010',\n",
       "       '25-06-2010', '02-07-2010', '09-07-2010', '16-07-2010',\n",
       "       '23-07-2010', '30-07-2010', '06-08-2010', '13-08-2010',\n",
       "       '20-08-2010', '27-08-2010', '03-09-2010', '10-09-2010',\n",
       "       '17-09-2010', '24-09-2010', '01-10-2010', '08-10-2010',\n",
       "       '15-10-2010', '22-10-2010', '29-10-2010', '05-11-2010',\n",
       "       '12-11-2010', '19-11-2010', '26-11-2010', '03-12-2010',\n",
       "       '10-12-2010', '17-12-2010', '24-12-2010', '31-12-2010',\n",
       "       '07-01-2011', '14-01-2011', '21-01-2011', '28-01-2011',\n",
       "       '04-02-2011', '11-02-2011', '18-02-2011', '25-02-2011',\n",
       "       '04-03-2011', '11-03-2011', '18-03-2011', '25-03-2011',\n",
       "       '01-04-2011', '08-04-2011', '15-04-2011', '22-04-2011',\n",
       "       '29-04-2011', '06-05-2011', '13-05-2011', '20-05-2011',\n",
       "       '27-05-2011', '03-06-2011', '10-06-2011', '17-06-2011',\n",
       "       '24-06-2011', '01-07-2011', '08-07-2011', '15-07-2011',\n",
       "       '22-07-2011', '29-07-2011', '05-08-2011', '12-08-2011',\n",
       "       '19-08-2011', '26-08-2011', '02-09-2011', '09-09-2011',\n",
       "       '16-09-2011', '23-09-2011', '30-09-2011', '07-10-2011',\n",
       "       '14-10-2011', '21-10-2011', '28-10-2011', '04-11-2011',\n",
       "       '11-11-2011', '18-11-2011', '25-11-2011', '02-12-2011',\n",
       "       '09-12-2011', '16-12-2011', '23-12-2011', '30-12-2011',\n",
       "       '06-01-2012', '13-01-2012', '20-01-2012', '27-01-2012',\n",
       "       '03-02-2012', '10-02-2012', '17-02-2012', '24-02-2012',\n",
       "       '02-03-2012', '09-03-2012', '16-03-2012', '23-03-2012',\n",
       "       '30-03-2012', '06-04-2012', '13-04-2012', '20-04-2012',\n",
       "       '27-04-2012', '04-05-2012', '11-05-2012', '18-05-2012',\n",
       "       '25-05-2012', '01-06-2012', '08-06-2012', '15-06-2012',\n",
       "       '22-06-2012', '29-06-2012', '06-07-2012', '13-07-2012',\n",
       "       '20-07-2012', '27-07-2012', '03-08-2012', '10-08-2012',\n",
       "       '17-08-2012', '24-08-2012', '31-08-2012', '07-09-2012',\n",
       "       '14-09-2012', '21-09-2012', '28-09-2012', '05-10-2012',\n",
       "       '12-10-2012', '19-10-2012', '26-10-2012'], dtype=object)"
      ]
     },
     "execution_count": 5,
     "metadata": {},
     "output_type": "execute_result"
    }
   ],
   "source": [
    "#Checking for possible text or nonconform date types\n",
    "\n",
    "df['Date'].unique()"
   ]
  },
  {
   "cell_type": "code",
   "execution_count": 6,
   "id": "29880743",
   "metadata": {},
   "outputs": [],
   "source": [
    "# Changing the date column format from object to datetime\n",
    "\n",
    "df['Date'] = pd.to_datetime(df['Date'], format = 'mixed')"
   ]
  },
  {
   "cell_type": "code",
   "execution_count": 7,
   "id": "6b7c8ba9",
   "metadata": {},
   "outputs": [
    {
     "data": {
      "text/plain": [
       "Store                    int64\n",
       "Date            datetime64[ns]\n",
       "Weekly_Sales           float64\n",
       "Holiday_Flag             int64\n",
       "Temperature            float64\n",
       "Fuel_Price             float64\n",
       "CPI                    float64\n",
       "Unemployment           float64\n",
       "dtype: object"
      ]
     },
     "execution_count": 7,
     "metadata": {},
     "output_type": "execute_result"
    }
   ],
   "source": [
    "df.dtypes"
   ]
  },
  {
   "cell_type": "code",
   "execution_count": 8,
   "id": "8425ec12",
   "metadata": {},
   "outputs": [
    {
     "data": {
      "text/plain": [
       "Store           0\n",
       "Date            0\n",
       "Weekly_Sales    0\n",
       "Holiday_Flag    0\n",
       "Temperature     0\n",
       "Fuel_Price      0\n",
       "CPI             0\n",
       "Unemployment    0\n",
       "dtype: int64"
      ]
     },
     "execution_count": 8,
     "metadata": {},
     "output_type": "execute_result"
    }
   ],
   "source": [
    "# Checking for null values\n",
    "\n",
    "df.isna().sum()"
   ]
  },
  {
   "cell_type": "code",
   "execution_count": 9,
   "id": "80f22b14",
   "metadata": {},
   "outputs": [
    {
     "data": {
      "text/plain": [
       "0"
      ]
     },
     "execution_count": 9,
     "metadata": {},
     "output_type": "execute_result"
    }
   ],
   "source": [
    "# Checking for duplicates values\n",
    "\n",
    "df.duplicated().sum()"
   ]
  },
  {
   "cell_type": "code",
   "execution_count": 10,
   "id": "7e9f8848",
   "metadata": {},
   "outputs": [],
   "source": [
    "# Rounding Weekly Sales to the nearest two decimals\n",
    "\n",
    "df['Weekly_Sales'] = df['Weekly_Sales'].round(2)"
   ]
  },
  {
   "cell_type": "code",
   "execution_count": 11,
   "id": "85a3b716",
   "metadata": {},
   "outputs": [],
   "source": [
    "# Sort the dataframe on Store number ascending and Date ascening\n",
    "\n",
    "df.sort_values(['Store', 'Date'], ascending = [True, True], inplace = True)"
   ]
  },
  {
   "cell_type": "code",
   "execution_count": 12,
   "id": "1f07ceab",
   "metadata": {},
   "outputs": [],
   "source": [
    "# Reset the index\n",
    "\n",
    "df.reset_index(drop = True, inplace = True)"
   ]
  },
  {
   "cell_type": "code",
   "execution_count": 14,
   "id": "0d33ed00",
   "metadata": {},
   "outputs": [
    {
     "data": {
      "text/html": [
       "<div>\n",
       "<style scoped>\n",
       "    .dataframe tbody tr th:only-of-type {\n",
       "        vertical-align: middle;\n",
       "    }\n",
       "\n",
       "    .dataframe tbody tr th {\n",
       "        vertical-align: top;\n",
       "    }\n",
       "\n",
       "    .dataframe thead th {\n",
       "        text-align: right;\n",
       "    }\n",
       "</style>\n",
       "<table border=\"1\" class=\"dataframe\">\n",
       "  <thead>\n",
       "    <tr style=\"text-align: right;\">\n",
       "      <th></th>\n",
       "      <th>Store</th>\n",
       "      <th>Date</th>\n",
       "      <th>Weekly_Sales</th>\n",
       "      <th>Holiday_Flag</th>\n",
       "      <th>Temperature</th>\n",
       "      <th>Fuel_Price</th>\n",
       "      <th>CPI</th>\n",
       "      <th>Unemployment</th>\n",
       "    </tr>\n",
       "  </thead>\n",
       "  <tbody>\n",
       "    <tr>\n",
       "      <th>0</th>\n",
       "      <td>1</td>\n",
       "      <td>2010-01-10</td>\n",
       "      <td>1453329.50</td>\n",
       "      <td>0</td>\n",
       "      <td>71.89</td>\n",
       "      <td>2.603</td>\n",
       "      <td>211.671989</td>\n",
       "      <td>7.838</td>\n",
       "    </tr>\n",
       "    <tr>\n",
       "      <th>1</th>\n",
       "      <td>1</td>\n",
       "      <td>2010-02-04</td>\n",
       "      <td>1594968.28</td>\n",
       "      <td>0</td>\n",
       "      <td>62.27</td>\n",
       "      <td>2.719</td>\n",
       "      <td>210.820450</td>\n",
       "      <td>7.808</td>\n",
       "    </tr>\n",
       "    <tr>\n",
       "      <th>2</th>\n",
       "      <td>1</td>\n",
       "      <td>2010-02-07</td>\n",
       "      <td>1492418.14</td>\n",
       "      <td>0</td>\n",
       "      <td>80.91</td>\n",
       "      <td>2.669</td>\n",
       "      <td>211.223533</td>\n",
       "      <td>7.787</td>\n",
       "    </tr>\n",
       "    <tr>\n",
       "      <th>3</th>\n",
       "      <td>1</td>\n",
       "      <td>2010-02-19</td>\n",
       "      <td>1611968.17</td>\n",
       "      <td>0</td>\n",
       "      <td>39.93</td>\n",
       "      <td>2.514</td>\n",
       "      <td>211.289143</td>\n",
       "      <td>8.106</td>\n",
       "    </tr>\n",
       "    <tr>\n",
       "      <th>4</th>\n",
       "      <td>1</td>\n",
       "      <td>2010-02-26</td>\n",
       "      <td>1409727.59</td>\n",
       "      <td>0</td>\n",
       "      <td>46.63</td>\n",
       "      <td>2.561</td>\n",
       "      <td>211.319643</td>\n",
       "      <td>8.106</td>\n",
       "    </tr>\n",
       "    <tr>\n",
       "      <th>...</th>\n",
       "      <td>...</td>\n",
       "      <td>...</td>\n",
       "      <td>...</td>\n",
       "      <td>...</td>\n",
       "      <td>...</td>\n",
       "      <td>...</td>\n",
       "      <td>...</td>\n",
       "      <td>...</td>\n",
       "    </tr>\n",
       "    <tr>\n",
       "      <th>6430</th>\n",
       "      <td>45</td>\n",
       "      <td>2012-10-08</td>\n",
       "      <td>733037.32</td>\n",
       "      <td>0</td>\n",
       "      <td>78.65</td>\n",
       "      <td>3.722</td>\n",
       "      <td>191.162613</td>\n",
       "      <td>8.684</td>\n",
       "    </tr>\n",
       "    <tr>\n",
       "      <th>6431</th>\n",
       "      <td>45</td>\n",
       "      <td>2012-10-19</td>\n",
       "      <td>718125.53</td>\n",
       "      <td>0</td>\n",
       "      <td>56.47</td>\n",
       "      <td>3.969</td>\n",
       "      <td>192.330854</td>\n",
       "      <td>8.667</td>\n",
       "    </tr>\n",
       "    <tr>\n",
       "      <th>6432</th>\n",
       "      <td>45</td>\n",
       "      <td>2012-10-26</td>\n",
       "      <td>760281.43</td>\n",
       "      <td>0</td>\n",
       "      <td>58.85</td>\n",
       "      <td>3.882</td>\n",
       "      <td>192.308899</td>\n",
       "      <td>8.667</td>\n",
       "    </tr>\n",
       "    <tr>\n",
       "      <th>6433</th>\n",
       "      <td>45</td>\n",
       "      <td>2012-11-05</td>\n",
       "      <td>770487.37</td>\n",
       "      <td>0</td>\n",
       "      <td>61.24</td>\n",
       "      <td>3.889</td>\n",
       "      <td>190.976417</td>\n",
       "      <td>8.567</td>\n",
       "    </tr>\n",
       "    <tr>\n",
       "      <th>6434</th>\n",
       "      <td>45</td>\n",
       "      <td>2012-12-10</td>\n",
       "      <td>734464.36</td>\n",
       "      <td>0</td>\n",
       "      <td>54.47</td>\n",
       "      <td>4.000</td>\n",
       "      <td>192.327265</td>\n",
       "      <td>8.667</td>\n",
       "    </tr>\n",
       "  </tbody>\n",
       "</table>\n",
       "<p>6435 rows × 8 columns</p>\n",
       "</div>"
      ],
      "text/plain": [
       "      Store       Date  Weekly_Sales  Holiday_Flag  Temperature  Fuel_Price  \\\n",
       "0         1 2010-01-10    1453329.50             0        71.89       2.603   \n",
       "1         1 2010-02-04    1594968.28             0        62.27       2.719   \n",
       "2         1 2010-02-07    1492418.14             0        80.91       2.669   \n",
       "3         1 2010-02-19    1611968.17             0        39.93       2.514   \n",
       "4         1 2010-02-26    1409727.59             0        46.63       2.561   \n",
       "...     ...        ...           ...           ...          ...         ...   \n",
       "6430     45 2012-10-08     733037.32             0        78.65       3.722   \n",
       "6431     45 2012-10-19     718125.53             0        56.47       3.969   \n",
       "6432     45 2012-10-26     760281.43             0        58.85       3.882   \n",
       "6433     45 2012-11-05     770487.37             0        61.24       3.889   \n",
       "6434     45 2012-12-10     734464.36             0        54.47       4.000   \n",
       "\n",
       "             CPI  Unemployment  \n",
       "0     211.671989         7.838  \n",
       "1     210.820450         7.808  \n",
       "2     211.223533         7.787  \n",
       "3     211.289143         8.106  \n",
       "4     211.319643         8.106  \n",
       "...          ...           ...  \n",
       "6430  191.162613         8.684  \n",
       "6431  192.330854         8.667  \n",
       "6432  192.308899         8.667  \n",
       "6433  190.976417         8.567  \n",
       "6434  192.327265         8.667  \n",
       "\n",
       "[6435 rows x 8 columns]"
      ]
     },
     "execution_count": 14,
     "metadata": {},
     "output_type": "execute_result"
    }
   ],
   "source": [
    "# Running the data frame to have a look over the changes\n",
    "\n",
    "df"
   ]
  },
  {
   "cell_type": "code",
   "execution_count": 20,
   "id": "a99a55e2",
   "metadata": {},
   "outputs": [],
   "source": [
    "# Changing decimals to nearest whole number and changing the type from float to integer\n",
    "\n",
    "df['Temperature'] = df['Temperature'].round(0).astype(int)"
   ]
  },
  {
   "cell_type": "code",
   "execution_count": 21,
   "id": "aa27f99c",
   "metadata": {},
   "outputs": [
    {
     "data": {
      "text/html": [
       "<div>\n",
       "<style scoped>\n",
       "    .dataframe tbody tr th:only-of-type {\n",
       "        vertical-align: middle;\n",
       "    }\n",
       "\n",
       "    .dataframe tbody tr th {\n",
       "        vertical-align: top;\n",
       "    }\n",
       "\n",
       "    .dataframe thead th {\n",
       "        text-align: right;\n",
       "    }\n",
       "</style>\n",
       "<table border=\"1\" class=\"dataframe\">\n",
       "  <thead>\n",
       "    <tr style=\"text-align: right;\">\n",
       "      <th></th>\n",
       "      <th>Store</th>\n",
       "      <th>Date</th>\n",
       "      <th>Weekly_Sales</th>\n",
       "      <th>Holiday_Flag</th>\n",
       "      <th>Temperature</th>\n",
       "      <th>Fuel_Price</th>\n",
       "      <th>CPI</th>\n",
       "      <th>Unemployment</th>\n",
       "    </tr>\n",
       "  </thead>\n",
       "  <tbody>\n",
       "    <tr>\n",
       "      <th>0</th>\n",
       "      <td>1</td>\n",
       "      <td>2010-01-10</td>\n",
       "      <td>1453329.50</td>\n",
       "      <td>0</td>\n",
       "      <td>72</td>\n",
       "      <td>2.603</td>\n",
       "      <td>211.671989</td>\n",
       "      <td>7.838</td>\n",
       "    </tr>\n",
       "    <tr>\n",
       "      <th>1</th>\n",
       "      <td>1</td>\n",
       "      <td>2010-02-04</td>\n",
       "      <td>1594968.28</td>\n",
       "      <td>0</td>\n",
       "      <td>62</td>\n",
       "      <td>2.719</td>\n",
       "      <td>210.820450</td>\n",
       "      <td>7.808</td>\n",
       "    </tr>\n",
       "    <tr>\n",
       "      <th>2</th>\n",
       "      <td>1</td>\n",
       "      <td>2010-02-07</td>\n",
       "      <td>1492418.14</td>\n",
       "      <td>0</td>\n",
       "      <td>81</td>\n",
       "      <td>2.669</td>\n",
       "      <td>211.223533</td>\n",
       "      <td>7.787</td>\n",
       "    </tr>\n",
       "    <tr>\n",
       "      <th>3</th>\n",
       "      <td>1</td>\n",
       "      <td>2010-02-19</td>\n",
       "      <td>1611968.17</td>\n",
       "      <td>0</td>\n",
       "      <td>40</td>\n",
       "      <td>2.514</td>\n",
       "      <td>211.289143</td>\n",
       "      <td>8.106</td>\n",
       "    </tr>\n",
       "    <tr>\n",
       "      <th>4</th>\n",
       "      <td>1</td>\n",
       "      <td>2010-02-26</td>\n",
       "      <td>1409727.59</td>\n",
       "      <td>0</td>\n",
       "      <td>47</td>\n",
       "      <td>2.561</td>\n",
       "      <td>211.319643</td>\n",
       "      <td>8.106</td>\n",
       "    </tr>\n",
       "    <tr>\n",
       "      <th>...</th>\n",
       "      <td>...</td>\n",
       "      <td>...</td>\n",
       "      <td>...</td>\n",
       "      <td>...</td>\n",
       "      <td>...</td>\n",
       "      <td>...</td>\n",
       "      <td>...</td>\n",
       "      <td>...</td>\n",
       "    </tr>\n",
       "    <tr>\n",
       "      <th>6430</th>\n",
       "      <td>45</td>\n",
       "      <td>2012-10-08</td>\n",
       "      <td>733037.32</td>\n",
       "      <td>0</td>\n",
       "      <td>79</td>\n",
       "      <td>3.722</td>\n",
       "      <td>191.162613</td>\n",
       "      <td>8.684</td>\n",
       "    </tr>\n",
       "    <tr>\n",
       "      <th>6431</th>\n",
       "      <td>45</td>\n",
       "      <td>2012-10-19</td>\n",
       "      <td>718125.53</td>\n",
       "      <td>0</td>\n",
       "      <td>56</td>\n",
       "      <td>3.969</td>\n",
       "      <td>192.330854</td>\n",
       "      <td>8.667</td>\n",
       "    </tr>\n",
       "    <tr>\n",
       "      <th>6432</th>\n",
       "      <td>45</td>\n",
       "      <td>2012-10-26</td>\n",
       "      <td>760281.43</td>\n",
       "      <td>0</td>\n",
       "      <td>59</td>\n",
       "      <td>3.882</td>\n",
       "      <td>192.308899</td>\n",
       "      <td>8.667</td>\n",
       "    </tr>\n",
       "    <tr>\n",
       "      <th>6433</th>\n",
       "      <td>45</td>\n",
       "      <td>2012-11-05</td>\n",
       "      <td>770487.37</td>\n",
       "      <td>0</td>\n",
       "      <td>61</td>\n",
       "      <td>3.889</td>\n",
       "      <td>190.976417</td>\n",
       "      <td>8.567</td>\n",
       "    </tr>\n",
       "    <tr>\n",
       "      <th>6434</th>\n",
       "      <td>45</td>\n",
       "      <td>2012-12-10</td>\n",
       "      <td>734464.36</td>\n",
       "      <td>0</td>\n",
       "      <td>54</td>\n",
       "      <td>4.000</td>\n",
       "      <td>192.327265</td>\n",
       "      <td>8.667</td>\n",
       "    </tr>\n",
       "  </tbody>\n",
       "</table>\n",
       "<p>6435 rows × 8 columns</p>\n",
       "</div>"
      ],
      "text/plain": [
       "      Store       Date  Weekly_Sales  Holiday_Flag  Temperature  Fuel_Price  \\\n",
       "0         1 2010-01-10    1453329.50             0           72       2.603   \n",
       "1         1 2010-02-04    1594968.28             0           62       2.719   \n",
       "2         1 2010-02-07    1492418.14             0           81       2.669   \n",
       "3         1 2010-02-19    1611968.17             0           40       2.514   \n",
       "4         1 2010-02-26    1409727.59             0           47       2.561   \n",
       "...     ...        ...           ...           ...          ...         ...   \n",
       "6430     45 2012-10-08     733037.32             0           79       3.722   \n",
       "6431     45 2012-10-19     718125.53             0           56       3.969   \n",
       "6432     45 2012-10-26     760281.43             0           59       3.882   \n",
       "6433     45 2012-11-05     770487.37             0           61       3.889   \n",
       "6434     45 2012-12-10     734464.36             0           54       4.000   \n",
       "\n",
       "             CPI  Unemployment  \n",
       "0     211.671989         7.838  \n",
       "1     210.820450         7.808  \n",
       "2     211.223533         7.787  \n",
       "3     211.289143         8.106  \n",
       "4     211.319643         8.106  \n",
       "...          ...           ...  \n",
       "6430  191.162613         8.684  \n",
       "6431  192.330854         8.667  \n",
       "6432  192.308899         8.667  \n",
       "6433  190.976417         8.567  \n",
       "6434  192.327265         8.667  \n",
       "\n",
       "[6435 rows x 8 columns]"
      ]
     },
     "execution_count": 21,
     "metadata": {},
     "output_type": "execute_result"
    }
   ],
   "source": [
    "df"
   ]
  },
  {
   "cell_type": "code",
   "execution_count": 22,
   "id": "ffe8511d",
   "metadata": {},
   "outputs": [],
   "source": [
    "# Changing the decimasls on Fuel Price column to nearest 2 decimal places\n",
    "\n",
    "df['Fuel_Price'] = df['Fuel_Price'].round(2)"
   ]
  },
  {
   "cell_type": "code",
   "execution_count": 23,
   "id": "073e4856",
   "metadata": {},
   "outputs": [
    {
     "data": {
      "text/html": [
       "<div>\n",
       "<style scoped>\n",
       "    .dataframe tbody tr th:only-of-type {\n",
       "        vertical-align: middle;\n",
       "    }\n",
       "\n",
       "    .dataframe tbody tr th {\n",
       "        vertical-align: top;\n",
       "    }\n",
       "\n",
       "    .dataframe thead th {\n",
       "        text-align: right;\n",
       "    }\n",
       "</style>\n",
       "<table border=\"1\" class=\"dataframe\">\n",
       "  <thead>\n",
       "    <tr style=\"text-align: right;\">\n",
       "      <th></th>\n",
       "      <th>Store</th>\n",
       "      <th>Date</th>\n",
       "      <th>Weekly_Sales</th>\n",
       "      <th>Holiday_Flag</th>\n",
       "      <th>Temperature</th>\n",
       "      <th>Fuel_Price</th>\n",
       "      <th>CPI</th>\n",
       "      <th>Unemployment</th>\n",
       "    </tr>\n",
       "  </thead>\n",
       "  <tbody>\n",
       "    <tr>\n",
       "      <th>0</th>\n",
       "      <td>1</td>\n",
       "      <td>2010-01-10</td>\n",
       "      <td>1453329.50</td>\n",
       "      <td>0</td>\n",
       "      <td>72</td>\n",
       "      <td>2.60</td>\n",
       "      <td>211.671989</td>\n",
       "      <td>7.838</td>\n",
       "    </tr>\n",
       "    <tr>\n",
       "      <th>1</th>\n",
       "      <td>1</td>\n",
       "      <td>2010-02-04</td>\n",
       "      <td>1594968.28</td>\n",
       "      <td>0</td>\n",
       "      <td>62</td>\n",
       "      <td>2.72</td>\n",
       "      <td>210.820450</td>\n",
       "      <td>7.808</td>\n",
       "    </tr>\n",
       "    <tr>\n",
       "      <th>2</th>\n",
       "      <td>1</td>\n",
       "      <td>2010-02-07</td>\n",
       "      <td>1492418.14</td>\n",
       "      <td>0</td>\n",
       "      <td>81</td>\n",
       "      <td>2.67</td>\n",
       "      <td>211.223533</td>\n",
       "      <td>7.787</td>\n",
       "    </tr>\n",
       "    <tr>\n",
       "      <th>3</th>\n",
       "      <td>1</td>\n",
       "      <td>2010-02-19</td>\n",
       "      <td>1611968.17</td>\n",
       "      <td>0</td>\n",
       "      <td>40</td>\n",
       "      <td>2.51</td>\n",
       "      <td>211.289143</td>\n",
       "      <td>8.106</td>\n",
       "    </tr>\n",
       "    <tr>\n",
       "      <th>4</th>\n",
       "      <td>1</td>\n",
       "      <td>2010-02-26</td>\n",
       "      <td>1409727.59</td>\n",
       "      <td>0</td>\n",
       "      <td>47</td>\n",
       "      <td>2.56</td>\n",
       "      <td>211.319643</td>\n",
       "      <td>8.106</td>\n",
       "    </tr>\n",
       "    <tr>\n",
       "      <th>...</th>\n",
       "      <td>...</td>\n",
       "      <td>...</td>\n",
       "      <td>...</td>\n",
       "      <td>...</td>\n",
       "      <td>...</td>\n",
       "      <td>...</td>\n",
       "      <td>...</td>\n",
       "      <td>...</td>\n",
       "    </tr>\n",
       "    <tr>\n",
       "      <th>6430</th>\n",
       "      <td>45</td>\n",
       "      <td>2012-10-08</td>\n",
       "      <td>733037.32</td>\n",
       "      <td>0</td>\n",
       "      <td>79</td>\n",
       "      <td>3.72</td>\n",
       "      <td>191.162613</td>\n",
       "      <td>8.684</td>\n",
       "    </tr>\n",
       "    <tr>\n",
       "      <th>6431</th>\n",
       "      <td>45</td>\n",
       "      <td>2012-10-19</td>\n",
       "      <td>718125.53</td>\n",
       "      <td>0</td>\n",
       "      <td>56</td>\n",
       "      <td>3.97</td>\n",
       "      <td>192.330854</td>\n",
       "      <td>8.667</td>\n",
       "    </tr>\n",
       "    <tr>\n",
       "      <th>6432</th>\n",
       "      <td>45</td>\n",
       "      <td>2012-10-26</td>\n",
       "      <td>760281.43</td>\n",
       "      <td>0</td>\n",
       "      <td>59</td>\n",
       "      <td>3.88</td>\n",
       "      <td>192.308899</td>\n",
       "      <td>8.667</td>\n",
       "    </tr>\n",
       "    <tr>\n",
       "      <th>6433</th>\n",
       "      <td>45</td>\n",
       "      <td>2012-11-05</td>\n",
       "      <td>770487.37</td>\n",
       "      <td>0</td>\n",
       "      <td>61</td>\n",
       "      <td>3.89</td>\n",
       "      <td>190.976417</td>\n",
       "      <td>8.567</td>\n",
       "    </tr>\n",
       "    <tr>\n",
       "      <th>6434</th>\n",
       "      <td>45</td>\n",
       "      <td>2012-12-10</td>\n",
       "      <td>734464.36</td>\n",
       "      <td>0</td>\n",
       "      <td>54</td>\n",
       "      <td>4.00</td>\n",
       "      <td>192.327265</td>\n",
       "      <td>8.667</td>\n",
       "    </tr>\n",
       "  </tbody>\n",
       "</table>\n",
       "<p>6435 rows × 8 columns</p>\n",
       "</div>"
      ],
      "text/plain": [
       "      Store       Date  Weekly_Sales  Holiday_Flag  Temperature  Fuel_Price  \\\n",
       "0         1 2010-01-10    1453329.50             0           72        2.60   \n",
       "1         1 2010-02-04    1594968.28             0           62        2.72   \n",
       "2         1 2010-02-07    1492418.14             0           81        2.67   \n",
       "3         1 2010-02-19    1611968.17             0           40        2.51   \n",
       "4         1 2010-02-26    1409727.59             0           47        2.56   \n",
       "...     ...        ...           ...           ...          ...         ...   \n",
       "6430     45 2012-10-08     733037.32             0           79        3.72   \n",
       "6431     45 2012-10-19     718125.53             0           56        3.97   \n",
       "6432     45 2012-10-26     760281.43             0           59        3.88   \n",
       "6433     45 2012-11-05     770487.37             0           61        3.89   \n",
       "6434     45 2012-12-10     734464.36             0           54        4.00   \n",
       "\n",
       "             CPI  Unemployment  \n",
       "0     211.671989         7.838  \n",
       "1     210.820450         7.808  \n",
       "2     211.223533         7.787  \n",
       "3     211.289143         8.106  \n",
       "4     211.319643         8.106  \n",
       "...          ...           ...  \n",
       "6430  191.162613         8.684  \n",
       "6431  192.330854         8.667  \n",
       "6432  192.308899         8.667  \n",
       "6433  190.976417         8.567  \n",
       "6434  192.327265         8.667  \n",
       "\n",
       "[6435 rows x 8 columns]"
      ]
     },
     "execution_count": 23,
     "metadata": {},
     "output_type": "execute_result"
    }
   ],
   "source": [
    "df"
   ]
  },
  {
   "cell_type": "code",
   "execution_count": 30,
   "id": "cb5ae8a8",
   "metadata": {},
   "outputs": [],
   "source": [
    "# Changing the name and on CPI column and round to nearest 3 decimal places\n",
    "\n",
    "df.rename(columns = {'CPI': 'Customer_Price_Index'}, inplace = True)"
   ]
  },
  {
   "cell_type": "code",
   "execution_count": 33,
   "id": "b7bd6e99",
   "metadata": {},
   "outputs": [],
   "source": [
    "df['Customer_Price_Index'] = df['Customer_Price_Index'].round(3)"
   ]
  },
  {
   "cell_type": "code",
   "execution_count": 34,
   "id": "891b80cb",
   "metadata": {},
   "outputs": [],
   "source": [
    "# Round Unemployment rate to nearest 3 decimal places\n",
    "\n",
    "df['Unemployment'] = df['Unemployment'].round(3)"
   ]
  },
  {
   "cell_type": "code",
   "execution_count": 41,
   "id": "68037cec",
   "metadata": {},
   "outputs": [
    {
     "data": {
      "text/html": [
       "<div>\n",
       "<style scoped>\n",
       "    .dataframe tbody tr th:only-of-type {\n",
       "        vertical-align: middle;\n",
       "    }\n",
       "\n",
       "    .dataframe tbody tr th {\n",
       "        vertical-align: top;\n",
       "    }\n",
       "\n",
       "    .dataframe thead th {\n",
       "        text-align: right;\n",
       "    }\n",
       "</style>\n",
       "<table border=\"1\" class=\"dataframe\">\n",
       "  <thead>\n",
       "    <tr style=\"text-align: right;\">\n",
       "      <th></th>\n",
       "      <th>Store</th>\n",
       "      <th>Date</th>\n",
       "      <th>Weekly_Sales</th>\n",
       "      <th>Holiday_Flag</th>\n",
       "      <th>Temperature</th>\n",
       "      <th>Fuel_Price</th>\n",
       "      <th>Customer_Price_Index</th>\n",
       "      <th>Unemployment</th>\n",
       "    </tr>\n",
       "  </thead>\n",
       "  <tbody>\n",
       "    <tr>\n",
       "      <th>count</th>\n",
       "      <td>6435.000000</td>\n",
       "      <td>6435</td>\n",
       "      <td>6.435000e+03</td>\n",
       "      <td>6435.000000</td>\n",
       "      <td>6435.000000</td>\n",
       "      <td>6435.000000</td>\n",
       "      <td>6435.000000</td>\n",
       "      <td>6435.000000</td>\n",
       "    </tr>\n",
       "    <tr>\n",
       "      <th>mean</th>\n",
       "      <td>23.000000</td>\n",
       "      <td>2011-06-17 20:18:27.692307712</td>\n",
       "      <td>1.046965e+06</td>\n",
       "      <td>0.069930</td>\n",
       "      <td>60.670552</td>\n",
       "      <td>3.358620</td>\n",
       "      <td>171.578394</td>\n",
       "      <td>7.999151</td>\n",
       "    </tr>\n",
       "    <tr>\n",
       "      <th>min</th>\n",
       "      <td>1.000000</td>\n",
       "      <td>2010-01-10 00:00:00</td>\n",
       "      <td>2.099862e+05</td>\n",
       "      <td>0.000000</td>\n",
       "      <td>-2.000000</td>\n",
       "      <td>2.470000</td>\n",
       "      <td>126.064000</td>\n",
       "      <td>3.879000</td>\n",
       "    </tr>\n",
       "    <tr>\n",
       "      <th>25%</th>\n",
       "      <td>12.000000</td>\n",
       "      <td>2010-10-12 00:00:00</td>\n",
       "      <td>5.533501e+05</td>\n",
       "      <td>0.000000</td>\n",
       "      <td>47.000000</td>\n",
       "      <td>2.930000</td>\n",
       "      <td>131.735000</td>\n",
       "      <td>6.891000</td>\n",
       "    </tr>\n",
       "    <tr>\n",
       "      <th>50%</th>\n",
       "      <td>23.000000</td>\n",
       "      <td>2011-06-17 00:00:00</td>\n",
       "      <td>9.607460e+05</td>\n",
       "      <td>0.000000</td>\n",
       "      <td>63.000000</td>\n",
       "      <td>3.440000</td>\n",
       "      <td>182.617000</td>\n",
       "      <td>7.874000</td>\n",
       "    </tr>\n",
       "    <tr>\n",
       "      <th>75%</th>\n",
       "      <td>34.000000</td>\n",
       "      <td>2012-03-02 00:00:00</td>\n",
       "      <td>1.420159e+06</td>\n",
       "      <td>0.000000</td>\n",
       "      <td>75.000000</td>\n",
       "      <td>3.740000</td>\n",
       "      <td>212.743500</td>\n",
       "      <td>8.622000</td>\n",
       "    </tr>\n",
       "    <tr>\n",
       "      <th>max</th>\n",
       "      <td>45.000000</td>\n",
       "      <td>2012-12-10 00:00:00</td>\n",
       "      <td>3.818686e+06</td>\n",
       "      <td>1.000000</td>\n",
       "      <td>100.000000</td>\n",
       "      <td>4.470000</td>\n",
       "      <td>227.233000</td>\n",
       "      <td>14.313000</td>\n",
       "    </tr>\n",
       "    <tr>\n",
       "      <th>std</th>\n",
       "      <td>12.988182</td>\n",
       "      <td>NaN</td>\n",
       "      <td>5.643666e+05</td>\n",
       "      <td>0.255049</td>\n",
       "      <td>18.444818</td>\n",
       "      <td>0.459097</td>\n",
       "      <td>39.356709</td>\n",
       "      <td>1.875885</td>\n",
       "    </tr>\n",
       "  </tbody>\n",
       "</table>\n",
       "</div>"
      ],
      "text/plain": [
       "             Store                           Date  Weekly_Sales  Holiday_Flag  \\\n",
       "count  6435.000000                           6435  6.435000e+03   6435.000000   \n",
       "mean     23.000000  2011-06-17 20:18:27.692307712  1.046965e+06      0.069930   \n",
       "min       1.000000            2010-01-10 00:00:00  2.099862e+05      0.000000   \n",
       "25%      12.000000            2010-10-12 00:00:00  5.533501e+05      0.000000   \n",
       "50%      23.000000            2011-06-17 00:00:00  9.607460e+05      0.000000   \n",
       "75%      34.000000            2012-03-02 00:00:00  1.420159e+06      0.000000   \n",
       "max      45.000000            2012-12-10 00:00:00  3.818686e+06      1.000000   \n",
       "std      12.988182                            NaN  5.643666e+05      0.255049   \n",
       "\n",
       "       Temperature   Fuel_Price  Customer_Price_Index  Unemployment  \n",
       "count  6435.000000  6435.000000           6435.000000   6435.000000  \n",
       "mean     60.670552     3.358620            171.578394      7.999151  \n",
       "min      -2.000000     2.470000            126.064000      3.879000  \n",
       "25%      47.000000     2.930000            131.735000      6.891000  \n",
       "50%      63.000000     3.440000            182.617000      7.874000  \n",
       "75%      75.000000     3.740000            212.743500      8.622000  \n",
       "max     100.000000     4.470000            227.233000     14.313000  \n",
       "std      18.444818     0.459097             39.356709      1.875885  "
      ]
     },
     "execution_count": 41,
     "metadata": {},
     "output_type": "execute_result"
    }
   ],
   "source": [
    "df.describe()"
   ]
  },
  {
   "cell_type": "code",
   "execution_count": null,
   "id": "4592aac4",
   "metadata": {},
   "outputs": [],
   "source": []
  },
  {
   "cell_type": "markdown",
   "id": "858c9d36",
   "metadata": {},
   "source": [
    "# Bussiness Questions"
   ]
  },
  {
   "cell_type": "markdown",
   "id": "08ab4061",
   "metadata": {},
   "source": [
    "●\tWhich holidays affect weekly sales the most?"
   ]
  },
  {
   "cell_type": "code",
   "execution_count": 59,
   "id": "62df2ece",
   "metadata": {},
   "outputs": [],
   "source": [
    "filt = df[df['Holiday_Flag'] == 1]"
   ]
  },
  {
   "cell_type": "code",
   "execution_count": 64,
   "id": "8b1461c4",
   "metadata": {},
   "outputs": [],
   "source": [
    "holiday_sales = filt.groupby('Date')['Weekly_Sales'].sum().sort_values(ascending = False).head(5)"
   ]
  },
  {
   "cell_type": "code",
   "execution_count": 65,
   "id": "003846b7",
   "metadata": {},
   "outputs": [
    {
     "data": {
      "text/plain": [
       "Date\n",
       "2011-11-25    66593605.26\n",
       "2010-11-26    65821003.24\n",
       "2012-10-02    50009407.92\n",
       "2010-12-02    48336677.63\n",
       "2012-07-09    48330059.31\n",
       "Name: Weekly_Sales, dtype: float64"
      ]
     },
     "execution_count": 65,
     "metadata": {},
     "output_type": "execute_result"
    }
   ],
   "source": [
    "holiday_sales "
   ]
  },
  {
   "cell_type": "markdown",
   "id": "4b1c5171",
   "metadata": {},
   "source": [
    "●\tWhich stores in the dataset have the lowest and highest unemployment rate?  What factors do you think are impacting the unemployment rate?"
   ]
  },
  {
   "cell_type": "code",
   "execution_count": 78,
   "id": "dad213d0",
   "metadata": {},
   "outputs": [],
   "source": [
    "stores_unemp = df.groupby('Store')['Unemployment'].mean().sort_values(ascending = False)"
   ]
  },
  {
   "cell_type": "code",
   "execution_count": 84,
   "id": "cd3b7fa6",
   "metadata": {},
   "outputs": [
    {
     "data": {
      "text/plain": [
       "Store\n",
       "28    13.116483\n",
       "Name: Unemployment, dtype: float64"
      ]
     },
     "execution_count": 84,
     "metadata": {},
     "output_type": "execute_result"
    }
   ],
   "source": [
    "top_stores_unem = stores_unemp.head(1)\n",
    "top_stores_unem"
   ]
  },
  {
   "cell_type": "code",
   "execution_count": 81,
   "id": "7579791b",
   "metadata": {},
   "outputs": [
    {
     "data": {
      "text/plain": [
       "Store\n",
       "23    4.796014\n",
       "Name: Unemployment, dtype: float64"
      ]
     },
     "execution_count": 81,
     "metadata": {},
     "output_type": "execute_result"
    }
   ],
   "source": [
    "bottom_stores_unemp = stores_unemp.tail(1)\n",
    "bottom_stores_unemp"
   ]
  },
  {
   "cell_type": "markdown",
   "id": "58e46d0a",
   "metadata": {},
   "source": [
    "●\tIs there any correlation between CPI and Weekly Sales?  How does the correlation differ when the Holiday Flag is 0 versus when the Holiday Flag is 1?"
   ]
  },
  {
   "cell_type": "code",
   "execution_count": 87,
   "id": "928752d2",
   "metadata": {},
   "outputs": [
    {
     "data": {
      "text/plain": [
       "-0.07263407421666009"
      ]
     },
     "execution_count": 87,
     "metadata": {},
     "output_type": "execute_result"
    }
   ],
   "source": [
    "#Using the correlation method and also the result close to 0 it indicates that there are no correlation between these two columns\n",
    "\n",
    "correlation_all_data = df['Customer_Price_Index'].corr(df['Weekly_Sales'])\n",
    "correlation_all_data"
   ]
  },
  {
   "cell_type": "code",
   "execution_count": 90,
   "id": "cb53901a",
   "metadata": {},
   "outputs": [
    {
     "data": {
      "text/plain": [
       "-0.07193940448927434"
      ]
     },
     "execution_count": 90,
     "metadata": {},
     "output_type": "execute_result"
    }
   ],
   "source": [
    "correlation_no_holiday = df[df['Holiday_Flag'] == 0]['Customer_Price_Index'].corr(df[df['Holiday_Flag'] == 0]['Weekly_Sales'])\n",
    "correlation_no_holiday"
   ]
  },
  {
   "cell_type": "code",
   "execution_count": 95,
   "id": "007ac724",
   "metadata": {},
   "outputs": [
    {
     "data": {
      "text/plain": [
       "-0.08097042519498711"
      ]
     },
     "execution_count": 95,
     "metadata": {},
     "output_type": "execute_result"
    }
   ],
   "source": [
    "correlation_with_holiday = df[df['Holiday_Flag'] == 1]['Customer_Price_Index'].corr(df[df['Holiday_Flag'] == 1]['Weekly_Sales'])\n",
    "correlation_with_holiday"
   ]
  },
  {
   "cell_type": "markdown",
   "id": "379be38d",
   "metadata": {},
   "source": [
    "● Why do you think Fuel Price is included in this dataset?  What conclusions can be made about Fuel Price compared to any of the other fields?"
   ]
  },
  {
   "cell_type": "code",
   "execution_count": 107,
   "id": "7fac28f8",
   "metadata": {},
   "outputs": [
    {
     "data": {
      "text/plain": [
       "0.009514681906345118"
      ]
     },
     "execution_count": 107,
     "metadata": {},
     "output_type": "execute_result"
    }
   ],
   "source": [
    "correlation_fuel_sales = df['Fuel_Price'].corr(df['Weekly_Sales'])\n",
    "correlation_fuel_sales "
   ]
  },
  {
   "cell_type": "code",
   "execution_count": 109,
   "id": "f6a47866",
   "metadata": {},
   "outputs": [
    {
     "data": {
      "text/plain": [
       "0.14475905996662872"
      ]
     },
     "execution_count": 109,
     "metadata": {},
     "output_type": "execute_result"
    }
   ],
   "source": [
    "correlation_fuel_temp = df['Fuel_Price'].corr(df['Temperature'])\n",
    "correlation_fuel_temp"
   ]
  },
  {
   "cell_type": "code",
   "execution_count": 121,
   "id": "e3c9e0ea",
   "metadata": {},
   "outputs": [
    {
     "data": {
      "text/plain": [
       "<matplotlib.collections.PathCollection at 0x193f12273d0>"
      ]
     },
     "execution_count": 121,
     "metadata": {},
     "output_type": "execute_result"
    },
    {
     "data": {
      "image/png": "[encoded data removed]",
      "text/plain": [
       "<Figure size 640x480 with 1 Axes>"
      ]
     },
     "metadata": {},
     "output_type": "display_data"
    }
   ],
   "source": [
    "plt.scatter(x = df['Fuel_Price'], y = df['Temperature'])"
   ]
  },
  {
   "cell_type": "code",
   "execution_count": null,
   "id": "815a65b1",
   "metadata": {},
   "outputs": [],
   "source": []
  }
 ],
 "metadata": {
  "kernelspec": {
   "display_name": "Python 3 (ipykernel)",
   "language": "python",
   "name": "python3"
  },
  "language_info": {
   "codemirror_mode": {
    "name": "ipython",
    "version": 3
   },
   "file_extension": ".py",
   "mimetype": "text/x-python",
   "name": "python",
   "nbconvert_exporter": "python",
   "pygments_lexer": "ipython3",
   "version": "3.11.5"
  }
 },
 "nbformat": 4,
 "nbformat_minor": 5
}
